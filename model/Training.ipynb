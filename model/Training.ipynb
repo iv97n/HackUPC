{
  "cells": [
    {
      "cell_type": "code",
      "execution_count": null,
      "id": "11134df4-5f06-46f5-b583-c763776a0343",
      "metadata": {
        "colab": {
          "base_uri": "https://localhost:8080/"
        },
        "id": "11134df4-5f06-46f5-b583-c763776a0343",
        "outputId": "ca87faa4-5c52-4837-a3ef-dd7545f52864"
      },
      "outputs": [
        {
          "output_type": "stream",
          "name": "stdout",
          "text": [
            "Requirement already satisfied: gower in /usr/local/lib/python3.10/dist-packages (0.1.2)\n",
            "Requirement already satisfied: numpy in /usr/local/lib/python3.10/dist-packages (from gower) (1.25.2)\n",
            "Requirement already satisfied: scipy in /usr/local/lib/python3.10/dist-packages (from gower) (1.11.4)\n",
            "Requirement already satisfied: scikit-learn-extra in /usr/local/lib/python3.10/dist-packages (0.3.0)\n",
            "Requirement already satisfied: numpy>=1.13.3 in /usr/local/lib/python3.10/dist-packages (from scikit-learn-extra) (1.25.2)\n",
            "Requirement already satisfied: scipy>=0.19.1 in /usr/local/lib/python3.10/dist-packages (from scikit-learn-extra) (1.11.4)\n",
            "Requirement already satisfied: scikit-learn>=0.23.0 in /usr/local/lib/python3.10/dist-packages (from scikit-learn-extra) (1.2.2)\n",
            "Requirement already satisfied: joblib>=1.1.1 in /usr/local/lib/python3.10/dist-packages (from scikit-learn>=0.23.0->scikit-learn-extra) (1.4.0)\n",
            "Requirement already satisfied: threadpoolctl>=2.0.0 in /usr/local/lib/python3.10/dist-packages (from scikit-learn>=0.23.0->scikit-learn-extra) (3.5.0)\n"
          ]
        }
      ],
      "source": [
        "!pip install gower\n",
        "!pip install scikit-learn-extra"
      ]
    },
    {
      "cell_type": "markdown",
      "source": [],
      "metadata": {
        "id": "w0U-XC7VGPqN"
      },
      "id": "w0U-XC7VGPqN"
    },
    {
      "cell_type": "code",
      "source": [
        "import warnings\n",
        "\n",
        "# Filter out DeprecationWarnings\n",
        "warnings.filterwarnings(\"ignore\", category=FutureWarning)"
      ],
      "metadata": {
        "id": "PI4h6MA2GRD5"
      },
      "id": "PI4h6MA2GRD5",
      "execution_count": null,
      "outputs": []
    },
    {
      "cell_type": "code",
      "source": [
        "import numpy as np\n",
        "import pandas as pd\n",
        "\n",
        "from sklearn_extra.cluster import KMedoids\n",
        "from sklearn.metrics import DistanceMetric\n",
        "from sklearn.preprocessing import MinMaxScaler\n",
        "\n",
        "from gower import gower_matrix"
      ],
      "metadata": {
        "id": "jFT60oSoBzT5"
      },
      "id": "jFT60oSoBzT5",
      "execution_count": null,
      "outputs": []
    },
    {
      "cell_type": "code",
      "source": [
        "def gower_distance(X):\n",
        "    \"\"\"\n",
        "    This function expects a pandas dataframe as input\n",
        "    The data frame is to contain the features along the columns. Based on these features a\n",
        "    distance matrix will be returned which will contain the pairwise gower distance between the rows\n",
        "    All variables of object type will be treated as nominal variables and the others will be treated as\n",
        "    numeric variables.\n",
        "    Distance metrics used for:\n",
        "    Nominal variables: Dice distance (https://en.wikipedia.org/wiki/S%C3%B8rensen%E2%80%93Dice_coefficient)\n",
        "    Numeric variables: Manhattan distance normalized by the range of the variable (https://en.wikipedia.org/wiki/Taxicab_geometry)\n",
        "    \"\"\"\n",
        "\n",
        "    individual_variable_distances = []\n",
        "\n",
        "    for i in range(X.shape[1]):\n",
        "        feature = X.iloc[:,[i]]\n",
        "        if feature.columns[0] in [\"dport\", \"flags_tcp\", \"proto\", \"sport\", \"src\", \"version\"]:\n",
        "            feature_dist = DistanceMetric.get_metric('dice').pairwise(pd.get_dummies(feature))\n",
        "        else:\n",
        "            feature_dist = DistanceMetric.get_metric('manhattan').pairwise(feature) / 10 #np.ptp(feature.values)\n",
        "        feature_dist[np.isnan(feature_dist)] = 0\n",
        "        individual_variable_distances.append(feature_dist)\n",
        "\n",
        "    return np.array(individual_variable_distances).mean(0)\n",
        "\n",
        "class ScipyKMedoidsClustering:\n",
        "    def __init__(self, num_clusters=10, metric='precomputed', method='pam', init='build', max_iter=300, random_state=None, threshold = 0.45, \\\n",
        "                 categorical_columns = [\"dport\", \"flags_tcp\", \"proto\", \"sport\", \"src\", \"version\"]):\n",
        "        self.num_clusters = num_clusters\n",
        "        self.metric = metric\n",
        "        self.method = method\n",
        "        self.init = init\n",
        "        self.max_iter = max_iter\n",
        "        self.random_state = random_state\n",
        "        self.kmedoids = None\n",
        "        self.medoid_indices = None\n",
        "        self.centroids = None\n",
        "        self.threshold = threshold\n",
        "        self.categorical_columns = categorical_columns\n",
        "\n",
        "    def fit(self, X):\n",
        "        \"\"\"\n",
        "        # Standarization of the data\n",
        "        self.len_mean = X['len'].mean()\n",
        "        self.len_std = X['len'].std()\n",
        "        self.count_mean = X['count'].mean()\n",
        "        self.count_std = X['count'].std()\n",
        "\n",
        "        X['len'] = (X['len'] - len_mean) / len_std\n",
        "        X['count'] = (X['count'] - count_mean) / count_std\n",
        "        \"\"\"\n",
        "        # Compute the distances matrix using the gower distance as metric\n",
        "        # distances = calculate_gower_distance(X, categorical_names=categorical_columns)\n",
        "\n",
        "        #distances = gower.gower_matrix(X.values, cat_features = [1,1,0,1,1,1,1,0])\n",
        "        distances = gower_distance(X)\n",
        "        # Train the model to obtain the centroids\n",
        "        self.kmedoids = KMedoids(n_clusters=self.num_clusters,\n",
        "                                 metric=self.metric,\n",
        "                                 method=self.method,\n",
        "                                 init=self.init,\n",
        "                                 max_iter=self.max_iter,\n",
        "                                 random_state=self.random_state)\n",
        "        self.kmedoids.fit(pd.DataFrame(distances).dropna())\n",
        "        self.medoid_indices = self.kmedoids.medoid_indices_\n",
        "        self.centroids = df.iloc[self.medoid_indices]\n",
        "        # print(self.centroids)\n",
        "        # print(distances)\n",
        "\n",
        "    def discriminate(self, sample):\n",
        "        \"\"\"\n",
        "        # Standarization of the sample\n",
        "        sample['len'] = (sample['len'] - self.len_mean) / self.len_std\n",
        "        sample['count'] = (sample['count'] - self.count_mean) / self.count_std\n",
        "        # Compute the distance of the sample to the centroids and check whether they are below the given threshold\n",
        "        \"\"\"\n",
        "        \"\"\"\n",
        "        sample_df = pd.DataFrame([sample])\n",
        "        sample_centroids_df = pd.concat([sample_df, self.centroids]).reset_index(drop=True)\n",
        "        print(sample_centroids_df)\n",
        "        #distances_sample = calculate_gower_distance(sample_centroids_df, categorical_names=self.categorical_columns)\n",
        "        distances_sample = gower.gower_matrix(sample_centroids_df, cat_features=[1, 1, 1, 1, 0, 1, 1, 0])\n",
        "        print(distances_sample)\n",
        "        first_row = distances_sample[0]\n",
        "        # excluded_values = np.delete(first_row, 0)\n",
        "        print(excluded_values)\n",
        "        is_below_threshold = any(value < self.threshold for value in excluded_values)\n",
        "\n",
        "        if is_below_threshold:\n",
        "            return False\n",
        "        else:\n",
        "            return True\n",
        "\n",
        "        \"\"\"\n",
        "        sample_df = pd.DataFrame([sample])\n",
        "        distances_sample = []\n",
        "        for _, centroid_row in self.centroids.iterrows():\n",
        "          combined_df = pd.concat([sample_df, centroid_row.to_frame().T], ignore_index=True)\n",
        "          combined_df.reset_index(drop=True, inplace=True)\n",
        "          distance = gower_distance(combined_df)\n",
        "          # distance = gower.gower_matrix(combined_df, cat_features = [1,1,0,1,1,1,1,0])\n",
        "          distances_sample.append(distance[0][1])  # Extract the distance between sample and centroid\n",
        "\n",
        "        # Check if any of the distances are below the threshold\n",
        "        is_below_threshold = any(distance < self.threshold for distance in distances_sample)\n",
        "\n",
        "        return not is_below_threshold"
      ],
      "metadata": {
        "id": "g_G7-q8rd5AO"
      },
      "id": "g_G7-q8rd5AO",
      "execution_count": null,
      "outputs": []
    },
    {
      "cell_type": "code",
      "source": [
        "df = pd.read_csv('concatenated_output.csv')\n",
        "df = df.sample(5000)\n",
        "categorical_columns = [\"dport\", \"flags_tcp\", \"proto\", \"sport\", \"src\", \"version\"]\n",
        "for category in categorical_columns:\n",
        "  df[category] = df[category].astype(str)\n",
        "df['len'] = df[category].astype(int)\n",
        "df['count'] = df[category].astype(int)\n",
        "my_kmedoids = ScipyKMedoidsClustering(threshold=0.45)\n",
        "my_kmedoids.fit(df)"
      ],
      "metadata": {
        "id": "sJmCvGdFKmEv"
      },
      "id": "sJmCvGdFKmEv",
      "execution_count": null,
      "outputs": []
    },
    {
      "cell_type": "code",
      "source": [
        "import pickle\n",
        "\n",
        "file_path = \"data.pkl\"\n",
        "with open(file_path, 'wb') as f:\n",
        "    pickle.dump((df, my_kmedoids), f)"
      ],
      "metadata": {
        "id": "eg5wsbVDV-qP"
      },
      "id": "eg5wsbVDV-qP",
      "execution_count": 12,
      "outputs": []
    },
    {
      "cell_type": "code",
      "source": [
        "# Suppose your new entry is represented as a dictionary where keys are column names\n",
        "new_entry= {'dport': '62835', 'flags_tcp': 'n', 'len': 4, 'proto': '17', 'sport': '443', 'src': '142.250.200.131', 'version': '4', 'count': 40}\n",
        "print(my_kmedoids.discriminate(new_entry))"
      ],
      "metadata": {
        "colab": {
          "base_uri": "https://localhost:8080/"
        },
        "id": "NaBvNFsEwKsD",
        "outputId": "d5664e68-4557-4e87-a5ea-9f91b4eab202"
      },
      "id": "NaBvNFsEwKsD",
      "execution_count": null,
      "outputs": [
        {
          "output_type": "stream",
          "name": "stdout",
          "text": [
            "True\n"
          ]
        }
      ]
    }
  ],
  "metadata": {
    "kernelspec": {
      "display_name": "Python 3 (ipykernel)",
      "language": "python",
      "name": "python3"
    },
    "language_info": {
      "codemirror_mode": {
        "name": "ipython",
        "version": 3
      },
      "file_extension": ".py",
      "mimetype": "text/x-python",
      "name": "python",
      "nbconvert_exporter": "python",
      "pygments_lexer": "ipython3",
      "version": "3.9.12"
    },
    "colab": {
      "provenance": []
    }
  },
  "nbformat": 4,
  "nbformat_minor": 5
}